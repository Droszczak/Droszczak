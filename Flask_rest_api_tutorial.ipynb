{
  "cells": [
    {
      "cell_type": "markdown",
      "metadata": {
        "id": "view-in-github",
        "colab_type": "text"
      },
      "source": [
        "<a href=\"https://colab.research.google.com/github/Droszczak/Droszczak/blob/main/Flask_rest_api_tutorial.ipynb\" target=\"_parent\"><img src=\"https://colab.research.google.com/assets/colab-badge.svg\" alt=\"Open In Colab\"/></a>"
      ]
    },
    {
      "cell_type": "code",
      "execution_count": null,
      "metadata": {
        "id": "_R1fKnSOxuKJ"
      },
      "outputs": [],
      "source": [
        "%matplotlib inline"
      ]
    },
    {
      "cell_type": "markdown",
      "metadata": {
        "id": "q3mcG5ynxuKP"
      },
      "source": [
        "\n",
        "Implantando o PyTorch em Python por meio de uma API REST com Flask\n",
        "================================================== ======\n",
        "**Autor**: `Avinash Sajjanshetty <https://avi.im>`_\n",
        "\n",
        "Neste tutorial, vamos implantar um modelo PyTorch usando Flask e expor um\n",
        "API REST para inferência de modelo. Em particular, vamos implantar um pré-treinado\n",
        "Modelo DenseNet 121 que detecta a imagem.\n",
        "\n",
        ".. dica:: Todo o código usado aqui é liberado sob licença MIT e está disponível em `Github <https://github.com/avinassh/pytorch-flask-api>`_.\n",
        "\n",
        "Isso representa o primeiro de uma série de tutoriais sobre a implantação de modelos PyTorch\n",
        "em produção. Usar o Flask dessa maneira é de longe a maneira mais fácil de começar\n",
        "servindo seus modelos PyTorch, mas não funcionará para um caso de uso\n",
        "com requisitos de alto desempenho. Por isso:\n",
        "\n",
        "    - Se você já está familiarizado com o TorchScript, você pode ir direto para o nosso\n",
        "      `Carregar um modelo do TorchScript em C++ <https://pytorch.org/tutorials/advanced/cpp_export.html>`_ tutorial.\n",
        "\n",
        "    - Se você primeiro precisar de uma atualização no TorchScript, confira nosso\n",
        "      `Introduzir um TorchScript <https://pytorch.org/tutorials/beginner/Intro_to_TorchScript_tutorial.html>`_ tutorial.\n"
      ]
    },
    {
      "cell_type": "markdown",
      "metadata": {
        "id": "qNNWtrxixuKT"
      },
      "source": [
        "Definição de API\n",
        "--------------\n",
        "\n",
        "Primeiro, definiremos nossos endpoints de API, os tipos de solicitação e resposta. Nosso\n",
        "O endpoint da API estará em ``/predict`` que recebe solicitações HTTP POST com um\n",
        "``file`` parâmetro que contém a imagem. A resposta será de JSON\n",
        "resposta contendo a previsão:\n",
        "\n",
        "::\n",
        "\n",
        "    {\"class_id\": \"n02124075\", \"class_name\": \"Egyptian_cat\"}\n",
        "\n",
        "\n",
        "\n"
      ]
    },
    {
      "cell_type": "markdown",
      "metadata": {
        "id": "ocA3fhxMxuKU"
      },
      "source": [
        "Dependências\n",
        "------------\n",
        "\n",
        "Instale as dependências necessárias executando o seguinte comando:\n",
        "\n",
        "::\n",
        "\n",
        "    $ pip install Flask==2.0.1 torchvision==0.10.0\n",
        "\n"
      ]
    },
    {
      "cell_type": "markdown",
      "metadata": {
        "id": "ZjuCD30MxuKV"
      },
      "source": [
        "Servidor Web Simples\n",
        "-----------------\n",
        "\n",
        "A seguir está um servidor web simples, retirado da documentação do Flask\n",
        "\n"
      ]
    },
    {
      "cell_type": "code",
      "execution_count": null,
      "metadata": {
        "id": "jrKpGqu3xuKW"
      },
      "outputs": [],
      "source": [
        "from flask import Flask\n",
        "app = Flask(__name__)\n",
        "\n",
        "\n",
        "@app.route('/')\n",
        "def hello():\n",
        "    return 'Hello World!'"
      ]
    },
    {
      "cell_type": "markdown",
      "metadata": {
        "id": "LAzXKrRDxuKe"
      },
      "source": [
        "Salve o trecho acima em um arquivo chamado ``app.py`` e agora você pode executar um\n",
        "Servidor de desenvolvimento Flask digitando:\n",
        "\n",
        "::\n",
        "\n",
        "    $ FLASK_ENV=development FLASK_APP=app.py flask run\n",
        "\n"
      ]
    },
    {
      "cell_type": "markdown",
      "metadata": {
        "id": "AcUPDxsRxuKf"
      },
      "source": [
        "Quando você visita ``http://localhost:5000/`` em seu navegador web, você será\n",
        "saudado com o texto ``Hello World!``\n",
        "\n"
      ]
    },
    {
      "cell_type": "markdown",
      "metadata": {
        "id": "RoDObEBfxuKg"
      },
      "source": [
        "Faremos pequenas alterações no snippet acima, para que ele se adeque à nossa API\n",
        "definição. Primeiro, vamos renomear o método para ``predict``. Nós vamos atualizar\n",
        "o caminho do endpoint para ``/predict``. Como os arquivos de imagem serão enviados via\n",
        "Solicitações HTTP POST, vamos atualizá-lo para que ele também aceite apenas POST\n",
        "solicitações de:\n"
      ]
    },
    {
      "cell_type": "code",
      "execution_count": null,
      "metadata": {
        "id": "6fcSXlPJxuKh"
      },
      "outputs": [],
      "source": [
        "@app.route('/predict', methods=['POST'])\n",
        "def predict():\n",
        "    return 'Hello World!'"
      ]
    },
    {
      "cell_type": "markdown",
      "metadata": {
        "id": "jvfb6dF0xuKi"
      },
      "source": [
        "Também alteraremos o tipo de resposta, para que retorne uma resposta JSON\n",
        "contendo o ID e o nome da classe ImageNet. O arquivo ``app.py`` atualizado será\n",
        "seja agora:\n",
        "\n"
      ]
    },
    {
      "cell_type": "code",
      "execution_count": null,
      "metadata": {
        "id": "Fg_ANjZUxuKj"
      },
      "outputs": [],
      "source": [
        "from flask import Flask, jsonify\n",
        "app = Flask(__name__)\n",
        "\n",
        "@app.route('/predict', methods=['POST'])\n",
        "def predict():\n",
        "    return jsonify({'class_id': 'IMAGE_NET_XXX', 'class_name': 'Cat'})"
      ]
    },
    {
      "cell_type": "markdown",
      "metadata": {
        "id": "fDivT74AxuKj"
      },
      "source": [
        "Inference\n",
        "-----------------\n",
        "\n",
        "In the next sections we will focus on writing the inference code. This will\n",
        "involve two parts, one where we prepare the image so that it can be fed\n",
        "to DenseNet and next, we will write the code to get the actual prediction\n",
        "from the model.\n",
        "\n",
        "Preparing the image\n",
        "~~~~~~~~~~~~~~~~~~~\n",
        "\n",
        "DenseNet model requires the image to be of 3 channel RGB image of size\n",
        "224 x 224. We will also normalise the image tensor with the required mean\n",
        "and standard deviation values. You can read more about it\n",
        "`here <https://pytorch.org/vision/stable/models.html>`_.\n",
        "\n",
        "We will use ``transforms`` from ``torchvision`` library and build a\n",
        "transform pipeline, which transforms our images as required. You\n",
        "can read more about transforms `here <https://pytorch.org/vision/stable/transforms.html>`_.\n",
        "\n"
      ]
    },
    {
      "cell_type": "code",
      "execution_count": null,
      "metadata": {
        "id": "Sg_t9aj1xuKk"
      },
      "outputs": [],
      "source": [
        "import io\n",
        "\n",
        "import torchvision.transforms as transforms\n",
        "from PIL import Image\n",
        "\n",
        "def transform_image(image_bytes):\n",
        "    my_transforms = transforms.Compose([transforms.Resize(255),\n",
        "                                        transforms.CenterCrop(224),\n",
        "                                        transforms.ToTensor(),\n",
        "                                        transforms.Normalize(\n",
        "                                            [0.485, 0.456, 0.406],\n",
        "                                            [0.229, 0.224, 0.225])])\n",
        "    image = Image.open(io.BytesIO(image_bytes))\n",
        "    return my_transforms(image).unsqueeze(0)"
      ]
    },
    {
      "cell_type": "markdown",
      "metadata": {
        "id": "Js_wcJkFxuKk"
      },
      "source": [
        "The above method takes image data in bytes, applies the series of transforms\n",
        "and returns a tensor. To test the above method, read an image file in\n",
        "bytes mode (first replacing `../_static/img/sample_file.jpeg` with the actual\n",
        "path to the file on your computer) and see if you get a tensor back:\n",
        "\n"
      ]
    },
    {
      "cell_type": "code",
      "execution_count": null,
      "metadata": {
        "id": "_Voc8_6YxuKk"
      },
      "outputs": [],
      "source": [
        "with open(\"../_static/img/sample_file.jpeg\", 'rb') as f:\n",
        "    image_bytes = f.read()\n",
        "    tensor = transform_image(image_bytes=image_bytes)\n",
        "    print(tensor)"
      ]
    },
    {
      "cell_type": "markdown",
      "metadata": {
        "id": "avF6KFL-xuKl"
      },
      "source": [
        "Prediction\n",
        "~~~~~~~~~~~~~~~~~~~\n",
        "\n",
        "Now will use a pretrained DenseNet 121 model to predict the image class. We\n",
        "will use one from ``torchvision`` library, load the model and get an\n",
        "inference. While we'll be using a pretrained model in this example, you can\n",
        "use this same approach for your own models. See more about loading your\n",
        "models in this :doc:`tutorial </beginner/saving_loading_models>`.\n",
        "\n"
      ]
    },
    {
      "cell_type": "code",
      "execution_count": null,
      "metadata": {
        "id": "uB9iUfjexuKl"
      },
      "outputs": [],
      "source": [
        "from torchvision import models\n",
        "\n",
        "# Make sure to pass `pretrained` as `True` to use the pretrained weights:\n",
        "model = models.densenet121(pretrained=True)\n",
        "# Since we are using our model only for inference, switch to `eval` mode:\n",
        "model.eval()\n",
        "\n",
        "\n",
        "def get_prediction(image_bytes):\n",
        "    tensor = transform_image(image_bytes=image_bytes)\n",
        "    outputs = model.forward(tensor)\n",
        "    _, y_hat = outputs.max(1)\n",
        "    return y_hat"
      ]
    },
    {
      "cell_type": "markdown",
      "metadata": {
        "id": "PJ2hjI5ZxuKl"
      },
      "source": [
        "The tensor ``y_hat`` will contain the index of the predicted class id.\n",
        "However, we need a human readable class name. For that we need a class id\n",
        "to name mapping. Download\n",
        "`this file <https://s3.amazonaws.com/deep-learning-models/image-models/imagenet_class_index.json>`_\n",
        "as ``imagenet_class_index.json`` and remember where you saved it (or, if you\n",
        "are following the exact steps in this tutorial, save it in\n",
        "`tutorials/_static`). This file contains the mapping of ImageNet class id to\n",
        "ImageNet class name. We will load this JSON file and get the class name of\n",
        "the predicted index.\n",
        "\n"
      ]
    },
    {
      "cell_type": "code",
      "execution_count": null,
      "metadata": {
        "id": "v__bsMYLxuKm"
      },
      "outputs": [],
      "source": [
        "import json\n",
        "\n",
        "imagenet_class_index = json.load(open('../_static/imagenet_class_index.json'))\n",
        "\n",
        "def get_prediction(image_bytes):\n",
        "    tensor = transform_image(image_bytes=image_bytes)\n",
        "    outputs = model.forward(tensor)\n",
        "    _, y_hat = outputs.max(1)\n",
        "    predicted_idx = str(y_hat.item())\n",
        "    return imagenet_class_index[predicted_idx]"
      ]
    },
    {
      "cell_type": "markdown",
      "metadata": {
        "id": "qA2ew4HVxuKm"
      },
      "source": [
        "Before using ``imagenet_class_index`` dictionary, first we will convert\n",
        "tensor value to a string value, since the keys in the\n",
        "``imagenet_class_index`` dictionary are strings.\n",
        "We will test our above method:\n",
        "\n"
      ]
    },
    {
      "cell_type": "code",
      "execution_count": null,
      "metadata": {
        "id": "hfonsmcaxuKm"
      },
      "outputs": [],
      "source": [
        "with open(\"../_static/img/sample_file.jpeg\", 'rb') as f:\n",
        "    image_bytes = f.read()\n",
        "    print(get_prediction(image_bytes=image_bytes))"
      ]
    },
    {
      "cell_type": "markdown",
      "metadata": {
        "id": "ovUx2r9IxuKn"
      },
      "source": [
        "You should get a response like this:\n",
        "\n"
      ]
    },
    {
      "cell_type": "code",
      "execution_count": null,
      "metadata": {
        "id": "-ZZAlhEAxuKo"
      },
      "outputs": [],
      "source": [
        "['n02124075', 'Egyptian_cat']"
      ]
    },
    {
      "cell_type": "markdown",
      "metadata": {
        "id": "XPuarhPYxuKo"
      },
      "source": [
        "The first item in array is ImageNet class id and second item is the human\n",
        "readable name.\n",
        "\n",
        ".. Note ::\n",
        "   Did you notice that ``model`` variable is not part of ``get_prediction``\n",
        "   method? Or why is model a global variable? Loading a model can be an\n",
        "   expensive operation in terms of memory and compute. If we loaded the model in the\n",
        "   ``get_prediction`` method, then it would get unnecessarily loaded every\n",
        "   time the method is called. Since, we are building a web server, there\n",
        "   could be thousands of requests per second, we should not waste time\n",
        "   redundantly loading the model for every inference. So, we keep the model\n",
        "   loaded in memory just once. In\n",
        "   production systems, it's necessary to be efficient about your use of\n",
        "   compute to be able to serve requests at scale, so you should generally\n",
        "   load your model before serving requests.\n",
        "\n"
      ]
    },
    {
      "cell_type": "markdown",
      "metadata": {
        "id": "JyzcEIq3xuKo"
      },
      "source": [
        "Integrating the model in our API Server\n",
        "---------------------------------------\n",
        "\n",
        "In this final part we will add our model to our Flask API server. Since\n",
        "our API server is supposed to take an image file, we will update our ``predict``\n",
        "method to read files from the requests:\n",
        "\n",
        ".. code-block:: python\n",
        "\n",
        "   from flask import request\n",
        "\n",
        "   @app.route('/predict', methods=['POST'])\n",
        "   def predict():\n",
        "       if request.method == 'POST':\n",
        "           # we will get the file from the request\n",
        "           file = request.files['file']\n",
        "           # convert that to bytes\n",
        "           img_bytes = file.read()\n",
        "           class_id, class_name = get_prediction(image_bytes=img_bytes)\n",
        "           return jsonify({'class_id': class_id, 'class_name': class_name})\n",
        "\n"
      ]
    },
    {
      "cell_type": "markdown",
      "metadata": {
        "id": "ZOmslUaVxuKo"
      },
      "source": [
        "The ``app.py`` file is now complete. Following is the full version; replace\n",
        "the paths with the paths where you saved your files and it should run:\n",
        "\n",
        ".. code-block:: python\n",
        "\n",
        "  import io\n",
        "  import json\n",
        "\n",
        "  from torchvision import models\n",
        "  import torchvision.transforms as transforms\n",
        "  from PIL import Image\n",
        "  from flask import Flask, jsonify, request\n",
        "\n",
        "\n",
        "  app = Flask(__name__)\n",
        "  imagenet_class_index = json.load(open('<PATH/TO/.json/FILE>/imagenet_class_index.json'))\n",
        "  model = models.densenet121(pretrained=True)\n",
        "  model.eval()\n",
        "\n",
        "\n",
        "  def transform_image(image_bytes):\n",
        "      my_transforms = transforms.Compose([transforms.Resize(255),\n",
        "                                          transforms.CenterCrop(224),\n",
        "                                          transforms.ToTensor(),\n",
        "                                          transforms.Normalize(\n",
        "                                              [0.485, 0.456, 0.406],\n",
        "                                              [0.229, 0.224, 0.225])])\n",
        "      image = Image.open(io.BytesIO(image_bytes))\n",
        "      return my_transforms(image).unsqueeze(0)\n",
        "\n",
        "\n",
        "  def get_prediction(image_bytes):\n",
        "      tensor = transform_image(image_bytes=image_bytes)\n",
        "      outputs = model.forward(tensor)\n",
        "      _, y_hat = outputs.max(1)\n",
        "      predicted_idx = str(y_hat.item())\n",
        "      return imagenet_class_index[predicted_idx]\n",
        "\n",
        "\n",
        "  @app.route('/predict', methods=['POST'])\n",
        "  def predict():\n",
        "      if request.method == 'POST':\n",
        "          file = request.files['file']\n",
        "          img_bytes = file.read()\n",
        "          class_id, class_name = get_prediction(image_bytes=img_bytes)\n",
        "          return jsonify({'class_id': class_id, 'class_name': class_name})\n",
        "\n",
        "\n",
        "  if __name__ == '__main__':\n",
        "      app.run()\n",
        "\n"
      ]
    },
    {
      "cell_type": "markdown",
      "metadata": {
        "id": "qMLSbKpJxuKp"
      },
      "source": [
        "Let's test our web server! Run:\n",
        "\n",
        "::\n",
        "\n",
        "    $ FLASK_ENV=development FLASK_APP=app.py flask run\n",
        "\n"
      ]
    },
    {
      "cell_type": "markdown",
      "metadata": {
        "id": "CKXGW2PnxuKp"
      },
      "source": [
        "We can use the\n",
        "`requests <https://pypi.org/project/requests/>`_\n",
        "library to send a POST request to our app:\n",
        "\n",
        ".. code-block:: python\n",
        "\n",
        "  import requests\n",
        "\n",
        "  resp = requests.post(\"http://localhost:5000/predict\",\n",
        "                       files={\"file\": open('<PATH/TO/.jpg/FILE>/cat.jpg','rb')})\n",
        "\n"
      ]
    },
    {
      "cell_type": "markdown",
      "metadata": {
        "id": "5VimXjqHxuKp"
      },
      "source": [
        "Printing `resp.json()` will now show the following:\n",
        "\n",
        "::\n",
        "\n",
        "    {\"class_id\": \"n02124075\", \"class_name\": \"Egyptian_cat\"}\n",
        "\n",
        "\n"
      ]
    },
    {
      "cell_type": "markdown",
      "metadata": {
        "id": "op3PLS-1xuKq"
      },
      "source": [
        "Next steps\n",
        "--------------\n",
        "\n",
        "The server we wrote is quite trivial and and may not do everything\n",
        "you need for your production application. So, here are some things you\n",
        "can do to make it better:\n",
        "\n",
        "- The endpoint ``/predict`` assumes that always there will be a image file\n",
        "  in the request. This may not hold true for all requests. Our user may\n",
        "  send image with a different parameter or send no images at all.\n",
        "\n",
        "- The user may send non-image type files too. Since we are not handling\n",
        "  errors, this will break our server. Adding an explicit error handing\n",
        "  path that will throw an exception would allow us to better handle\n",
        "  the bad inputs\n",
        "\n",
        "- Even though the model can recognize a large number of classes of images,\n",
        "  it may not be able to recognize all images. Enhance the implementation\n",
        "  to handle cases when the model does not recognize anything in the image.\n",
        "\n",
        "- We run the Flask server in the development mode, which is not suitable for\n",
        "  deploying in production. You can check out `this tutorial <https://flask.palletsprojects.com/en/1.1.x/tutorial/deploy/>`_\n",
        "  for deploying a Flask server in production.\n",
        "\n",
        "- You can also add a UI by creating a page with a form which takes the image and\n",
        "  displays the prediction. Check out the `demo <https://pytorch-imagenet.herokuapp.com/>`_\n",
        "  of a similar project and its `source code <https://github.com/avinassh/pytorch-flask-api-heroku>`_.\n",
        "\n",
        "- In this tutorial, we only showed how to build a service that could return predictions for\n",
        "  a single image at a time. We could modify our service to be able to return predictions for\n",
        "  multiple images at once. In addition, the `service-streamer <https://github.com/ShannonAI/service-streamer>`_\n",
        "  library automatically queues requests to your service and samples them into mini-batches\n",
        "  that can be fed into your model. You can check out `this tutorial <https://github.com/ShannonAI/service-streamer/wiki/Vision-Recognition-Service-with-Flask-and-service-streamer>`_.\n",
        "\n",
        "- Finally, we encourage you to check out our other tutorials on deploying PyTorch models\n",
        "  linked-to at the top of the page.\n",
        "\n"
      ]
    }
  ],
  "metadata": {
    "kernelspec": {
      "display_name": "Python 3",
      "language": "python",
      "name": "python3"
    },
    "language_info": {
      "codemirror_mode": {
        "name": "ipython",
        "version": 3
      },
      "file_extension": ".py",
      "mimetype": "text/x-python",
      "name": "python",
      "nbconvert_exporter": "python",
      "pygments_lexer": "ipython3",
      "version": "3.7.13"
    },
    "colab": {
      "provenance": [],
      "toc_visible": true,
      "collapsed_sections": [],
      "include_colab_link": true
    }
  },
  "nbformat": 4,
  "nbformat_minor": 0
}